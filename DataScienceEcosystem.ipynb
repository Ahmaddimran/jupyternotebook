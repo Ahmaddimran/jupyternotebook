{
 "cells": [
  {
   "cell_type": "markdown",
   "id": "8dd8021d-64cd-4742-b251-4f595f7f270d",
   "metadata": {},
   "source": [
    "# Data Science Tools and Ecosystem"
   ]
  },
  {
   "cell_type": "markdown",
   "id": "b72db35d-40bf-4aac-bd96-1ba94dde0593",
   "metadata": {},
   "source": [
    "## Author:\n",
    "          Ahmad Imran"
   ]
  },
  {
   "cell_type": "markdown",
   "id": "86b3f434-3bad-4a87-9263-5b0940180710",
   "metadata": {},
   "source": [
    "### In this notebook, Data Science Tools and Ecosystem are summarized."
   ]
  },
  {
   "cell_type": "markdown",
   "id": "accf238e-0f7b-4f24-88af-2998cb197632",
   "metadata": {},
   "source": [
    "**Objectives**:\n",
    "- Popular Data Science Languages\n",
    "- Popular Data Science Libraries\n",
    "- Evaluation of Mathematical Expression\n",
    "- Popular Integrated Development Environment for Data Science\n"
   ]
  },
  {
   "cell_type": "markdown",
   "id": "2e150806-9252-4fe1-9f38-821b9b494314",
   "metadata": {},
   "source": [
    "#### Some of the popular languages that Data Scientists use are:"
   ]
  },
  {
   "cell_type": "markdown",
   "id": "b0214eaf-37a0-4bec-b439-5e61b81ee9f0",
   "metadata": {},
   "source": [
    "1. Python\n",
    "2. R\n",
    "3. SQL\n",
    "4. Julia"
   ]
  },
  {
   "cell_type": "markdown",
   "id": "1c74ab08-4344-4815-b7f7-d94769a2eaa1",
   "metadata": {},
   "source": [
    "#### Some of the commonly used libraries used by Data Scientists include:"
   ]
  },
  {
   "cell_type": "markdown",
   "id": "abcd0a12-082a-4cae-93c6-1d367955fe49",
   "metadata": {},
   "source": [
    "1. NumPy\n",
    "2. Pandas\n",
    "3. Matplotlib\n",
    "4. PyTorch\n",
    "   "
   ]
  },
  {
   "cell_type": "markdown",
   "id": "5f3b0293-0b52-4939-8538-f6d13a97f9c6",
   "metadata": {},
   "source": [
    "| Data Science Tools   |\n",
    "|----------------------|\n",
    "| Jupyter Notebook     |\n",
    "| RStudio              |\n",
    "| Apache Zeppelin      |\n"
   ]
  },
  {
   "cell_type": "markdown",
   "id": "14438b89-59b2-417c-ae9c-196eac1b1f45",
   "metadata": {},
   "source": [
    "### Below are a few examples of evaluating arithmetic expressions in Python"
   ]
  },
  {
   "cell_type": "code",
   "execution_count": 1,
   "id": "9b820201-8055-434f-b5c2-2c78371e0b43",
   "metadata": {},
   "outputs": [
    {
     "data": {
      "text/plain": [
       "17"
      ]
     },
     "execution_count": 1,
     "metadata": {},
     "output_type": "execute_result"
    }
   ],
   "source": [
    "(3*4)+5\n"
   ]
  },
  {
   "cell_type": "markdown",
   "id": "ba4f1927-a5d0-4449-89e8-6cf575f6f972",
   "metadata": {},
   "source": [
    "##### This a simple arithmetic expression to mutiply then add integers"
   ]
  },
  {
   "cell_type": "code",
   "execution_count": 2,
   "id": "8412def8-b000-4dfb-a282-2f308739e978",
   "metadata": {},
   "outputs": [
    {
     "name": "stdout",
     "output_type": "stream",
     "text": [
      "3.3333333333333335\n"
     ]
    }
   ],
   "source": [
    "minutes = 200\n",
    "hours = minutes / 60\n",
    "print(hours)\n"
   ]
  },
  {
   "cell_type": "markdown",
   "id": "6595808c-0e07-474c-b795-9bb1f6fd1e8d",
   "metadata": {},
   "source": [
    "##### This will convert 200 minutes to hours by diving by 60"
   ]
  },
  {
   "cell_type": "code",
   "execution_count": null,
   "id": "42a85962-d8b0-4300-9b47-fac3385b4dc6",
   "metadata": {},
   "outputs": [],
   "source": []
  }
 ],
 "metadata": {
  "kernelspec": {
   "display_name": "Python 3 (ipykernel)",
   "language": "python",
   "name": "python3"
  },
  "language_info": {
   "codemirror_mode": {
    "name": "ipython",
    "version": 3
   },
   "file_extension": ".py",
   "mimetype": "text/x-python",
   "name": "python",
   "nbconvert_exporter": "python",
   "pygments_lexer": "ipython3",
   "version": "3.11.4"
  }
 },
 "nbformat": 4,
 "nbformat_minor": 5
}
